{
 "cells": [
  {
   "cell_type": "code",
   "execution_count": 1,
   "metadata": {},
   "outputs": [
    {
     "data": {
      "text/plain": [
       "Plots.GRBackend()"
      ]
     },
     "execution_count": 1,
     "metadata": {},
     "output_type": "execute_result"
    }
   ],
   "source": [
    "include(\"./Functions.jl\")\n",
    "using .GPLM\n",
    "using Random\n",
    "using Plots\n",
    "using LinearAlgebra\n",
    "using Distributions\n",
    "gr()"
   ]
  },
  {
   "cell_type": "code",
   "execution_count": 46,
   "metadata": {},
   "outputs": [
    {
     "data": {
      "image/svg+xml": [
       "<?xml version=\"1.0\" encoding=\"utf-8\"?>\n",
       "<svg xmlns=\"http://www.w3.org/2000/svg\" xmlns:xlink=\"http://www.w3.org/1999/xlink\" width=\"600\" height=\"400\" viewBox=\"0 0 2400 1600\">\n",
       "<defs>\n",
       "  <clipPath id=\"clip3600\">\n",
       "    <rect x=\"0\" y=\"0\" width=\"2400\" height=\"1600\"/>\n",
       "  </clipPath>\n",
       "</defs>\n",
       "<polygon clip-path=\"url(#clip3600)\" points=\"\n",
       "0,1600 2400,1600 2400,0 0,0 \n",
       "  \" fill=\"#ffffff\" fill-rule=\"evenodd\" fill-opacity=\"1\"/>\n",
       "<defs>\n",
       "  <clipPath id=\"clip3601\">\n",
       "    <rect x=\"480\" y=\"0\" width=\"1681\" height=\"1600\"/>\n",
       "  </clipPath>\n",
       "</defs>\n",
       "<polygon clip-path=\"url(#clip3600)\" points=\"\n",
       "141.865,1487.47 2352.76,1487.47 2352.76,47.2441 141.865,47.2441 \n",
       "  \" fill=\"#ffffff\" fill-rule=\"evenodd\" fill-opacity=\"1\"/>\n",
       "<defs>\n",
       "  <clipPath id=\"clip3602\">\n",
       "    <rect x=\"141\" y=\"47\" width=\"2212\" height=\"1441\"/>\n",
       "  </clipPath>\n",
       "</defs>\n",
       "<polyline clip-path=\"url(#clip3602)\" style=\"stroke:#000000; stroke-width:2; stroke-opacity:0.1; fill:none\" points=\"\n",
       "  204.437,1487.47 204.437,47.2441 \n",
       "  \"/>\n",
       "<polyline clip-path=\"url(#clip3602)\" style=\"stroke:#000000; stroke-width:2; stroke-opacity:0.1; fill:none\" points=\"\n",
       "  540.848,1487.47 540.848,47.2441 \n",
       "  \"/>\n",
       "<polyline clip-path=\"url(#clip3602)\" style=\"stroke:#000000; stroke-width:2; stroke-opacity:0.1; fill:none\" points=\"\n",
       "  877.258,1487.47 877.258,47.2441 \n",
       "  \"/>\n",
       "<polyline clip-path=\"url(#clip3602)\" style=\"stroke:#000000; stroke-width:2; stroke-opacity:0.1; fill:none\" points=\"\n",
       "  1213.67,1487.47 1213.67,47.2441 \n",
       "  \"/>\n",
       "<polyline clip-path=\"url(#clip3602)\" style=\"stroke:#000000; stroke-width:2; stroke-opacity:0.1; fill:none\" points=\"\n",
       "  1550.08,1487.47 1550.08,47.2441 \n",
       "  \"/>\n",
       "<polyline clip-path=\"url(#clip3602)\" style=\"stroke:#000000; stroke-width:2; stroke-opacity:0.1; fill:none\" points=\"\n",
       "  1886.49,1487.47 1886.49,47.2441 \n",
       "  \"/>\n",
       "<polyline clip-path=\"url(#clip3602)\" style=\"stroke:#000000; stroke-width:2; stroke-opacity:0.1; fill:none\" points=\"\n",
       "  2222.9,1487.47 2222.9,47.2441 \n",
       "  \"/>\n",
       "<polyline clip-path=\"url(#clip3602)\" style=\"stroke:#000000; stroke-width:2; stroke-opacity:0.1; fill:none\" points=\"\n",
       "  141.865,1279.96 2352.76,1279.96 \n",
       "  \"/>\n",
       "<polyline clip-path=\"url(#clip3602)\" style=\"stroke:#000000; stroke-width:2; stroke-opacity:0.1; fill:none\" points=\"\n",
       "  141.865,870.255 2352.76,870.255 \n",
       "  \"/>\n",
       "<polyline clip-path=\"url(#clip3602)\" style=\"stroke:#000000; stroke-width:2; stroke-opacity:0.1; fill:none\" points=\"\n",
       "  141.865,460.549 2352.76,460.549 \n",
       "  \"/>\n",
       "<polyline clip-path=\"url(#clip3602)\" style=\"stroke:#000000; stroke-width:2; stroke-opacity:0.1; fill:none\" points=\"\n",
       "  141.865,50.844 2352.76,50.844 \n",
       "  \"/>\n",
       "<polyline clip-path=\"url(#clip3600)\" style=\"stroke:#000000; stroke-width:4; stroke-opacity:1; fill:none\" points=\"\n",
       "  141.865,1487.47 2352.76,1487.47 \n",
       "  \"/>\n",
       "<polyline clip-path=\"url(#clip3600)\" style=\"stroke:#000000; stroke-width:4; stroke-opacity:1; fill:none\" points=\"\n",
       "  141.865,1487.47 141.865,47.2441 \n",
       "  \"/>\n",
       "<polyline clip-path=\"url(#clip3600)\" style=\"stroke:#000000; stroke-width:4; stroke-opacity:1; fill:none\" points=\"\n",
       "  204.437,1487.47 204.437,1465.87 \n",
       "  \"/>\n",
       "<polyline clip-path=\"url(#clip3600)\" style=\"stroke:#000000; stroke-width:4; stroke-opacity:1; fill:none\" points=\"\n",
       "  540.848,1487.47 540.848,1465.87 \n",
       "  \"/>\n",
       "<polyline clip-path=\"url(#clip3600)\" style=\"stroke:#000000; stroke-width:4; stroke-opacity:1; fill:none\" points=\"\n",
       "  877.258,1487.47 877.258,1465.87 \n",
       "  \"/>\n",
       "<polyline clip-path=\"url(#clip3600)\" style=\"stroke:#000000; stroke-width:4; stroke-opacity:1; fill:none\" points=\"\n",
       "  1213.67,1487.47 1213.67,1465.87 \n",
       "  \"/>\n",
       "<polyline clip-path=\"url(#clip3600)\" style=\"stroke:#000000; stroke-width:4; stroke-opacity:1; fill:none\" points=\"\n",
       "  1550.08,1487.47 1550.08,1465.87 \n",
       "  \"/>\n",
       "<polyline clip-path=\"url(#clip3600)\" style=\"stroke:#000000; stroke-width:4; stroke-opacity:1; fill:none\" points=\"\n",
       "  1886.49,1487.47 1886.49,1465.87 \n",
       "  \"/>\n",
       "<polyline clip-path=\"url(#clip3600)\" style=\"stroke:#000000; stroke-width:4; stroke-opacity:1; fill:none\" points=\"\n",
       "  2222.9,1487.47 2222.9,1465.87 \n",
       "  \"/>\n",
       "<polyline clip-path=\"url(#clip3600)\" style=\"stroke:#000000; stroke-width:4; stroke-opacity:1; fill:none\" points=\"\n",
       "  141.865,1279.96 175.028,1279.96 \n",
       "  \"/>\n",
       "<polyline clip-path=\"url(#clip3600)\" style=\"stroke:#000000; stroke-width:4; stroke-opacity:1; fill:none\" points=\"\n",
       "  141.865,870.255 175.028,870.255 \n",
       "  \"/>\n",
       "<polyline clip-path=\"url(#clip3600)\" style=\"stroke:#000000; stroke-width:4; stroke-opacity:1; fill:none\" points=\"\n",
       "  141.865,460.549 175.028,460.549 \n",
       "  \"/>\n",
       "<polyline clip-path=\"url(#clip3600)\" style=\"stroke:#000000; stroke-width:4; stroke-opacity:1; fill:none\" points=\"\n",
       "  141.865,50.844 175.028,50.844 \n",
       "  \"/>\n",
       "<g clip-path=\"url(#clip3600)\">\n",
       "<text style=\"fill:#000000; fill-opacity:1; font-family:Arial,Helvetica Neue,Helvetica,sans-serif; font-size:48px; text-anchor:middle;\" transform=\"rotate(0, 204.437, 1541.47)\" x=\"204.437\" y=\"1541.47\">0</text>\n",
       "</g>\n",
       "<g clip-path=\"url(#clip3600)\">\n",
       "<text style=\"fill:#000000; fill-opacity:1; font-family:Arial,Helvetica Neue,Helvetica,sans-serif; font-size:48px; text-anchor:middle;\" transform=\"rotate(0, 540.848, 1541.47)\" x=\"540.848\" y=\"1541.47\">1</text>\n",
       "</g>\n",
       "<g clip-path=\"url(#clip3600)\">\n",
       "<text style=\"fill:#000000; fill-opacity:1; font-family:Arial,Helvetica Neue,Helvetica,sans-serif; font-size:48px; text-anchor:middle;\" transform=\"rotate(0, 877.258, 1541.47)\" x=\"877.258\" y=\"1541.47\">2</text>\n",
       "</g>\n",
       "<g clip-path=\"url(#clip3600)\">\n",
       "<text style=\"fill:#000000; fill-opacity:1; font-family:Arial,Helvetica Neue,Helvetica,sans-serif; font-size:48px; text-anchor:middle;\" transform=\"rotate(0, 1213.67, 1541.47)\" x=\"1213.67\" y=\"1541.47\">3</text>\n",
       "</g>\n",
       "<g clip-path=\"url(#clip3600)\">\n",
       "<text style=\"fill:#000000; fill-opacity:1; font-family:Arial,Helvetica Neue,Helvetica,sans-serif; font-size:48px; text-anchor:middle;\" transform=\"rotate(0, 1550.08, 1541.47)\" x=\"1550.08\" y=\"1541.47\">4</text>\n",
       "</g>\n",
       "<g clip-path=\"url(#clip3600)\">\n",
       "<text style=\"fill:#000000; fill-opacity:1; font-family:Arial,Helvetica Neue,Helvetica,sans-serif; font-size:48px; text-anchor:middle;\" transform=\"rotate(0, 1886.49, 1541.47)\" x=\"1886.49\" y=\"1541.47\">5</text>\n",
       "</g>\n",
       "<g clip-path=\"url(#clip3600)\">\n",
       "<text style=\"fill:#000000; fill-opacity:1; font-family:Arial,Helvetica Neue,Helvetica,sans-serif; font-size:48px; text-anchor:middle;\" transform=\"rotate(0, 2222.9, 1541.47)\" x=\"2222.9\" y=\"1541.47\">6</text>\n",
       "</g>\n",
       "<g clip-path=\"url(#clip3600)\">\n",
       "<text style=\"fill:#000000; fill-opacity:1; font-family:Arial,Helvetica Neue,Helvetica,sans-serif; font-size:48px; text-anchor:end;\" transform=\"rotate(0, 117.865, 1297.46)\" x=\"117.865\" y=\"1297.46\">-4</text>\n",
       "</g>\n",
       "<g clip-path=\"url(#clip3600)\">\n",
       "<text style=\"fill:#000000; fill-opacity:1; font-family:Arial,Helvetica Neue,Helvetica,sans-serif; font-size:48px; text-anchor:end;\" transform=\"rotate(0, 117.865, 887.755)\" x=\"117.865\" y=\"887.755\">-2</text>\n",
       "</g>\n",
       "<g clip-path=\"url(#clip3600)\">\n",
       "<text style=\"fill:#000000; fill-opacity:1; font-family:Arial,Helvetica Neue,Helvetica,sans-serif; font-size:48px; text-anchor:end;\" transform=\"rotate(0, 117.865, 478.049)\" x=\"117.865\" y=\"478.049\">0</text>\n",
       "</g>\n",
       "<g clip-path=\"url(#clip3600)\">\n",
       "<text style=\"fill:#000000; fill-opacity:1; font-family:Arial,Helvetica Neue,Helvetica,sans-serif; font-size:48px; text-anchor:end;\" transform=\"rotate(0, 117.865, 68.344)\" x=\"117.865\" y=\"68.344\">2</text>\n",
       "</g>\n",
       "<polyline clip-path=\"url(#clip3602)\" style=\"stroke:#009af9; stroke-width:4; stroke-opacity:1; fill:none\" points=\"\n",
       "  204.437,460.549 238.078,458.504 271.719,452.41 305.36,442.388 339.001,428.64 372.642,411.443 406.283,391.148 439.924,368.17 473.566,342.987 507.207,316.129 \n",
       "  540.848,288.172 574.489,259.726 608.13,231.432 641.771,203.946 675.412,177.929 709.053,154.04 742.694,132.925 776.335,115.203 809.976,101.458 843.617,92.2304 \n",
       "  877.258,88.0053 910.899,89.2048 944.541,96.1795 978.182,109.202 1011.82,128.46 1045.46,154.053 1079.1,185.985 1112.75,224.165 1146.39,268.404 1180.03,318.418 \n",
       "  1213.67,373.823 1247.31,434.144 1280.95,498.815 1314.59,567.188 1348.23,638.533 1381.87,712.055 1415.52,786.895 1449.16,862.141 1482.8,936.844 1516.44,1010.02 \n",
       "  1550.08,1080.68 1583.72,1147.82 1617.36,1210.44 1651,1267.57 1684.64,1318.28 1718.29,1361.67 1751.93,1396.93 1785.57,1423.28 1819.21,1440.07 1852.85,1446.71 \n",
       "  1886.49,1442.74 1920.13,1427.79 1953.77,1401.63 1987.41,1364.16 2021.05,1315.38 2054.7,1255.47 2088.34,1184.72 2121.98,1103.56 2155.62,1012.56 2189.26,912.428 \n",
       "  2222.9,803.983 2256.54,688.18 2290.18,566.08 \n",
       "  \"/>\n",
       "<circle clip-path=\"url(#clip3602)\" style=\"fill:#000000; stroke:none; fill-opacity:1\" cx=\"1820.73\" cy=\"1440.59\" r=\"18\"/>\n",
       "<circle clip-path=\"url(#clip3602)\" style=\"fill:#e26f46; stroke:none; fill-opacity:1\" cx=\"1820.73\" cy=\"1440.59\" r=\"14\"/>\n",
       "<circle clip-path=\"url(#clip3602)\" style=\"fill:#000000; stroke:none; fill-opacity:1\" cx=\"1797.94\" cy=\"1430.6\" r=\"18\"/>\n",
       "<circle clip-path=\"url(#clip3602)\" style=\"fill:#e26f46; stroke:none; fill-opacity:1\" cx=\"1797.94\" cy=\"1430.6\" r=\"14\"/>\n",
       "<circle clip-path=\"url(#clip3602)\" style=\"fill:#000000; stroke:none; fill-opacity:1\" cx=\"1670.73\" cy=\"1298.14\" r=\"18\"/>\n",
       "<circle clip-path=\"url(#clip3602)\" style=\"fill:#e26f46; stroke:none; fill-opacity:1\" cx=\"1670.73\" cy=\"1298.14\" r=\"14\"/>\n",
       "<circle clip-path=\"url(#clip3602)\" style=\"fill:#000000; stroke:none; fill-opacity:1\" cx=\"1106.33\" cy=\"216.406\" r=\"18\"/>\n",
       "<circle clip-path=\"url(#clip3602)\" style=\"fill:#e26f46; stroke:none; fill-opacity:1\" cx=\"1106.33\" cy=\"216.406\" r=\"14\"/>\n",
       "<circle clip-path=\"url(#clip3602)\" style=\"fill:#000000; stroke:none; fill-opacity:1\" cx=\"402.249\" cy=\"393.732\" r=\"18\"/>\n",
       "<circle clip-path=\"url(#clip3602)\" style=\"fill:#e26f46; stroke:none; fill-opacity:1\" cx=\"402.249\" cy=\"393.732\" r=\"14\"/>\n",
       "<circle clip-path=\"url(#clip3602)\" style=\"fill:#000000; stroke:none; fill-opacity:1\" cx=\"1261.37\" cy=\"460.673\" r=\"18\"/>\n",
       "<circle clip-path=\"url(#clip3602)\" style=\"fill:#e26f46; stroke:none; fill-opacity:1\" cx=\"1261.37\" cy=\"460.673\" r=\"14\"/>\n",
       "<circle clip-path=\"url(#clip3602)\" style=\"fill:#000000; stroke:none; fill-opacity:1\" cx=\"1106.55\" cy=\"216.671\" r=\"18\"/>\n",
       "<circle clip-path=\"url(#clip3602)\" style=\"fill:#e26f46; stroke:none; fill-opacity:1\" cx=\"1106.55\" cy=\"216.671\" r=\"14\"/>\n",
       "<circle clip-path=\"url(#clip3602)\" style=\"fill:#000000; stroke:none; fill-opacity:1\" cx=\"2174.38\" cy=\"957.808\" r=\"18\"/>\n",
       "<circle clip-path=\"url(#clip3602)\" style=\"fill:#e26f46; stroke:none; fill-opacity:1\" cx=\"2174.38\" cy=\"957.808\" r=\"14\"/>\n",
       "<circle clip-path=\"url(#clip3602)\" style=\"fill:#000000; stroke:none; fill-opacity:1\" cx=\"652.517\" cy=\"195.444\" r=\"18\"/>\n",
       "<circle clip-path=\"url(#clip3602)\" style=\"fill:#e26f46; stroke:none; fill-opacity:1\" cx=\"652.517\" cy=\"195.444\" r=\"14\"/>\n",
       "<circle clip-path=\"url(#clip3602)\" style=\"fill:#000000; stroke:none; fill-opacity:1\" cx=\"382.574\" cy=\"405.756\" r=\"18\"/>\n",
       "<circle clip-path=\"url(#clip3602)\" style=\"fill:#e26f46; stroke:none; fill-opacity:1\" cx=\"382.574\" cy=\"405.756\" r=\"14\"/>\n",
       "<polygon clip-path=\"url(#clip3600)\" points=\"\n",
       "1671.62,312.204 2280.76,312.204 2280.76,130.764 1671.62,130.764 \n",
       "  \" fill=\"#ffffff\" fill-rule=\"evenodd\" fill-opacity=\"1\"/>\n",
       "<polyline clip-path=\"url(#clip3600)\" style=\"stroke:#000000; stroke-width:4; stroke-opacity:1; fill:none\" points=\"\n",
       "  1671.62,312.204 2280.76,312.204 2280.76,130.764 1671.62,130.764 1671.62,312.204 \n",
       "  \"/>\n",
       "<polyline clip-path=\"url(#clip3600)\" style=\"stroke:#009af9; stroke-width:4; stroke-opacity:1; fill:none\" points=\"\n",
       "  1695.62,191.244 1839.62,191.244 \n",
       "  \"/>\n",
       "<g clip-path=\"url(#clip3600)\">\n",
       "<text style=\"fill:#000000; fill-opacity:1; font-family:Arial,Helvetica Neue,Helvetica,sans-serif; font-size:48px; text-anchor:start;\" transform=\"rotate(0, 1863.62, 208.744)\" x=\"1863.62\" y=\"208.744\">Theoretical curve</text>\n",
       "</g>\n",
       "<circle clip-path=\"url(#clip3600)\" style=\"fill:#000000; stroke:none; fill-opacity:1\" cx=\"1779.62\" cy=\"251.724\" r=\"25\"/>\n",
       "<circle clip-path=\"url(#clip3600)\" style=\"fill:#e26f46; stroke:none; fill-opacity:1\" cx=\"1779.62\" cy=\"251.724\" r=\"21\"/>\n",
       "<g clip-path=\"url(#clip3600)\">\n",
       "<text style=\"fill:#000000; fill-opacity:1; font-family:Arial,Helvetica Neue,Helvetica,sans-serif; font-size:48px; text-anchor:start;\" transform=\"rotate(0, 1863.62, 269.224)\" x=\"1863.62\" y=\"269.224\">Toy data</text>\n",
       "</g>\n",
       "</svg>\n"
      ]
     },
     "execution_count": 46,
     "metadata": {},
     "output_type": "execute_result"
    }
   ],
   "source": [
    "f(x)=x[1]*sin(x[1])\n",
    "x=[i for i in 0:0.1:2π]\n",
    "y=[f(i) for i in x]\n",
    "n(x)=[0]\n",
    "plot(x,y, label=\"Theoretical curve\")\n",
    "X,Y=GPLM.ToyData(f,1,1,min=0,max=2π,messiness=n,N=10)\n",
    "plot!(X,Y,seriestype=:scatter, label=\"Toy data\")"
   ]
  },
  {
   "cell_type": "code",
   "execution_count": 47,
   "metadata": {},
   "outputs": [
    {
     "data": {
      "text/plain": [
       "(Any[-0.03595585308308161, -0.008397532328344837, 0.03175023731656884, 0.08598338251905857, 0.15522743652657434, 0.2396921317770898, 0.33878736833917755, 0.4511161456968876, 0.5745480065337472, 0.7063624502689378  …  -4.31716854192916, -4.0471367033644, -3.731670868710036, -3.38238777765738, -3.0124935955236136, -2.6356557235860953, -2.2648770508969056, -1.911527550934011, -1.5846459287033097, -1.2905673740728498], Any[0.28561301857657945, 0.19486671130649094, 0.11802791874491765, 0.059241590835027336, 0.020663892037650563, 0.0020303049211588277, 0.0005891330032113456, 0.011446880158669338, 0.028295666361501843, 0.044415307100288355  …  0.08910709829654563, 0.11021741234911214, 0.12015226774858041, 0.1134497181369364, 0.08624966571038166, 0.03691494249348867, 0.03373811156506905, 0.12261049798096804, 0.2248280201173078, 0.3344668878718457], [1.0 0.9954228076852316 … 5.7937195869908894e-6 1.1562178703324919e-8; 0.9954228076852316 1.0 … 9.23128992102026e-6 2.0537725142708554e-8; … ; 5.7937195869908894e-6 9.23128992102026e-6 … 1.0 0.5252521282908833; 1.1562178703324919e-8 2.0537725142708554e-8 … 0.5252521282908833 1.0], [1386.523740787516 -1590.3083985452781 … 12.559899699283463 62.78234398298912; -1590.3083985452881 1830.117795857412 … -15.06282880237309 -75.31887256107575; … ; 12.559899699263426 -15.06282880234824 … 4.753395126226127 30.427155523960835; 62.78234398285994 -75.31887256091835 … 30.427155523959044 344.5176866414156], [-43.2599690869852, 45.28431645476477, -8.050530443803071, 1405.075543584726, -0.40151170287703053, 1.672566698653739, -1405.0992963169283, -0.1926560126517889, 1.0095735233061367, 0.09675324112528472])"
      ]
     },
     "execution_count": 47,
     "metadata": {},
     "output_type": "execute_result"
    }
   ],
   "source": [
    "(μ,σ,K,K_,yy)=GPLM.GaussianProcessRegression(X,Y,k,x_test=[i for i in 0:0.1:2π],observationn_noise=0)"
   ]
  },
  {
   "cell_type": "code",
   "execution_count": 48,
   "metadata": {},
   "outputs": [],
   "source": [
    "x_test=[i for i in 0:0.1:2π]\n",
    "x=[i for i in 0:0.1:2π]\n",
    "y=[f(i) for i in x]\n",
    "plot(x,y, label=\"Theoretical curve\", dpi=300)\n",
    "plot!(x_test,μ, label=\"Predicted curve\")\n",
    "plot!(X,Y,seriestype=:scatter, label=\"toydata\")\n",
    "plot!(x_test,μ+2 .*σ, label=\"+2signma\")\n",
    "plot!(x_test,μ-2 .*σ,label=\"-2signma\")\n",
    "savefig(\"/Users/tk/Desktop/1210/f1.png\")"
   ]
  },
  {
   "cell_type": "code",
   "execution_count": 54,
   "metadata": {},
   "outputs": [
    {
     "data": {
      "text/plain": [
       "(Any[-0.0639431335690972, -0.034536656497387075, 0.009186977127905005, 0.06870099052760675, 0.14469213385217733, 0.23688871220475527, 0.3439792645750534, 0.4636455132384684, 0.5927169385195548, 0.7274339874842015  …  -4.035942052646569, -3.7632288373699687, -3.471725567987398, -3.171339515005681, -2.8705051449344303, -2.5759290402856556, -2.292579034265749, -2.0238632408123207, -1.7719252093680775, -1.537978777472952], Any[0.58823278081691, 0.4899813426479284, 0.3848393808652076, 0.2773501214781434, 0.1743259084168697, 0.09085775209348669, 0.07762989126836164, 0.12628927778769067, 0.17035194318616328, 0.19369719141623745  …  0.27823069212509677, 0.2866575264902022, 0.2713618829264686, 0.23218551897674816, 0.17350626821706297, 0.1126225478051975, 0.11235368492383166, 0.19594538468458295, 0.30620780437495404, 0.42072588369633773], [1.01 0.9954228076852316 … 5.7937195869908894e-6 1.1562178703324919e-8; 0.9954228076852316 1.01 … 9.23128992102026e-6 2.0537725142708554e-8; … ; 5.7937195869908894e-6 9.23128992102026e-6 … 1.01 0.5252521282908833; 1.1562178703324919e-8 2.0537725142708554e-8 … 0.5252521282908833 1.01], [42.94096734278836 -46.10448729307233 … -0.029827601281483464 -0.03182557746913483; -46.10448729307234 54.379199283934334 … 0.16935811427768538 0.18428869547985988; … ; -0.02982760128148327 0.1693581142776855 … 1.7513475055347172 2.70963633163915; -0.03182557746913459 0.1842886954798598 … 2.70963633163915 41.73655396851294], [-3.3726165367882395, -0.42781889589027483, -0.6306545959001602, 1.1324423152265068, -0.42482398029032886, -1.4694981529189433, 1.1290475909715942, -1.109193765444416, 1.1932011511504121, 0.04322056974617716])"
      ]
     },
     "execution_count": 54,
     "metadata": {},
     "output_type": "execute_result"
    }
   ],
   "source": [
    "(μ,σ,K,K_,yy)=GPLM.GaussianProcessRegression(X,Y,k,x_test=[i for i in 0:0.1:2π],observationn_noise=0.01)"
   ]
  },
  {
   "cell_type": "code",
   "execution_count": 71,
   "metadata": {},
   "outputs": [],
   "source": [
    "f(x)=x[1]*sin(x[1])\n",
    "x=[i for i in 0:0.1:2π]\n",
    "y=[f(i) for i in x]\n",
    "n(x)=[0.3]\n",
    "plot(x,y, label=\"Theoretical curve\", dpi=300)\n",
    "X,Y=GPLM.ToyData(f,1,1,min=0,max=2π,messiness=n,N=10)\n",
    "plot!(X,Y,seriestype=:scatter, label=\"Toy data\")\n",
    "(μ,σ,K,K_,yy)=GPLM.GaussianProcessRegression(X,Y,k,x_test=[i for i in 0:0.1:2π],observationn_noise=0.3)\n",
    "x_test=[i for i in 0:0.1:2π]\n",
    "x=[i for i in 0:0.1:2π]\n",
    "y=[f(i) for i in x]\n",
    "plot!(x_test,μ, label=\"Predicted curve\")\n",
    "plot!(x_test,μ+2 .*σ, label=\"+2signma\")\n",
    "plot!(x_test,μ-2 .*σ,label=\"-2signma\")\n",
    "savefig(\"/Users/tk/Desktop/1210/f2.png\")"
   ]
  },
  {
   "cell_type": "code",
   "execution_count": 73,
   "metadata": {},
   "outputs": [],
   "source": [
    "f(x)=x[1]*sin(x[1])\n",
    "x=[i for i in 0:0.1:2π]\n",
    "y=[f(i) for i in x]\n",
    "n(x)=[sin(x[1])]\n",
    "plot(x,y, dpi=300)\n",
    "X,Y=GPLM.ToyData(f,1,1,min=0,max=2π,messiness=n,N=100)\n",
    "plot!(X,Y,seriestype=:scatter)\n",
    "savefig(\"/Users/tk/Desktop/1210/f3.png\")"
   ]
  },
  {
   "cell_type": "code",
   "execution_count": null,
   "metadata": {},
   "outputs": [],
   "source": []
  }
 ],
 "metadata": {
  "kernelspec": {
   "display_name": "Julia 1.2.0",
   "language": "julia",
   "name": "julia-1.2"
  },
  "language_info": {
   "file_extension": ".jl",
   "mimetype": "application/julia",
   "name": "julia",
   "version": "1.2.0"
  }
 },
 "nbformat": 4,
 "nbformat_minor": 4
}
