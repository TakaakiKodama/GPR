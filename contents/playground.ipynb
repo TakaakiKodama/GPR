{
 "cells": [
  {
   "cell_type": "code",
   "execution_count": 1,
   "metadata": {},
   "outputs": [
    {
     "data": {
      "text/plain": [
       "TestLern"
      ]
     },
     "execution_count": 1,
     "metadata": {},
     "output_type": "execute_result"
    }
   ],
   "source": [
    "\n",
    "struct TestLern\n",
    "    d3distance\n",
    "    volume\n",
    "    dummy\n",
    "end\n",
    "function TestLern(x,y,z)\n",
    "    a=√(x^2+y^2+z^2)\n",
    "    b=x*y*z\n",
    "    return TestLern(a,b)\n",
    "end"
   ]
  },
  {
   "cell_type": "code",
   "execution_count": 2,
   "metadata": {},
   "outputs": [
    {
     "ename": "MethodError",
     "evalue": "MethodError: no method matching TestLern(::Float64, ::Int64)\nClosest candidates are:\n  TestLern(::Any, ::Any, !Matched::Any) at In[1]:8",
     "output_type": "error",
     "traceback": [
      "MethodError: no method matching TestLern(::Float64, ::Int64)\nClosest candidates are:\n  TestLern(::Any, ::Any, !Matched::Any) at In[1]:8",
      "",
      "Stacktrace:",
      " [1] TestLern(::Int64, ::Int64, ::Int64) at ./In[1]:10",
      " [2] top-level scope at In[2]:1"
     ]
    }
   ],
   "source": [
    "\n",
    "c=TestLern(2,3,4)\n",
    "p.d3distance"
   ]
  },
  {
   "cell_type": "code",
   "execution_count": 10,
   "metadata": {},
   "outputs": [
    {
     "data": {
      "text/plain": [
       "5.385164807134504"
      ]
     },
     "execution_count": 10,
     "metadata": {},
     "output_type": "execute_result"
    }
   ],
   "source": [
    "p=TestLern(1,1,9)\n",
    "c.d3distance"
   ]
  },
  {
   "cell_type": "code",
   "execution_count": 7,
   "metadata": {},
   "outputs": [
    {
     "name": "stdout",
     "output_type": "stream",
     "text": [
      "(10, 20, 30)\n"
     ]
    }
   ],
   "source": [
    "module myiterator\n",
    "    export MyIterator\n",
    "\n",
    "    struct MyIterator \n",
    "        _numbers\n",
    "    end\n",
    "    function MyIterator(numbers...)\n",
    "        _numbers = numbers\n",
    "        return MyIterator(_numbers)\n",
    "    end\n",
    "end\n",
    "\n",
    "using .myiterator\n",
    "my_iterator = MyIterator(10,20,30)\n",
    "println(my_iterator._numbers)\n"
   ]
  },
  {
   "cell_type": "code",
   "execution_count": 4,
   "metadata": {},
   "outputs": [],
   "source": [
    "using Plots"
   ]
  },
  {
   "cell_type": "code",
   "execution_count": 5,
   "metadata": {},
   "outputs": [
    {
     "data": {
      "image/svg+xml": [
       "<?xml version=\"1.0\" encoding=\"utf-8\"?>\n",
       "<svg xmlns=\"http://www.w3.org/2000/svg\" xmlns:xlink=\"http://www.w3.org/1999/xlink\" width=\"600\" height=\"400\" viewBox=\"0 0 2400 1600\">\n",
       "<defs>\n",
       "  <clipPath id=\"clip870\">\n",
       "    <rect x=\"0\" y=\"0\" width=\"2400\" height=\"1600\"/>\n",
       "  </clipPath>\n",
       "</defs>\n",
       "<path clip-path=\"url(#clip870)\" d=\"\n",
       "M0 1600 L2400 1600 L2400 0 L0 0  Z\n",
       "  \" fill=\"#ffffff\" fill-rule=\"evenodd\" fill-opacity=\"1\"/>\n",
       "<defs>\n",
       "  <clipPath id=\"clip871\">\n",
       "    <rect x=\"480\" y=\"0\" width=\"1681\" height=\"1600\"/>\n",
       "  </clipPath>\n",
       "</defs>\n",
       "<path clip-path=\"url(#clip870)\" d=\"\n",
       "M135.95 1486.45 L2352.76 1486.45 L2352.76 47.2441 L135.95 47.2441  Z\n",
       "  \" fill=\"#ffffff\" fill-rule=\"evenodd\" fill-opacity=\"1\"/>\n",
       "<defs>\n",
       "  <clipPath id=\"clip872\">\n",
       "    <rect x=\"135\" y=\"47\" width=\"2218\" height=\"1440\"/>\n",
       "  </clipPath>\n",
       "</defs>\n",
       "<polyline clip-path=\"url(#clip872)\" style=\"stroke:#000000; stroke-width:2; stroke-opacity:0.1; fill:none\" points=\"\n",
       "  407.823,1486.45 407.823,47.2441 \n",
       "  \"/>\n",
       "<polyline clip-path=\"url(#clip872)\" style=\"stroke:#000000; stroke-width:2; stroke-opacity:0.1; fill:none\" points=\"\n",
       "  826.088,1486.45 826.088,47.2441 \n",
       "  \"/>\n",
       "<polyline clip-path=\"url(#clip872)\" style=\"stroke:#000000; stroke-width:2; stroke-opacity:0.1; fill:none\" points=\"\n",
       "  1244.35,1486.45 1244.35,47.2441 \n",
       "  \"/>\n",
       "<polyline clip-path=\"url(#clip872)\" style=\"stroke:#000000; stroke-width:2; stroke-opacity:0.1; fill:none\" points=\"\n",
       "  1662.62,1486.45 1662.62,47.2441 \n",
       "  \"/>\n",
       "<polyline clip-path=\"url(#clip872)\" style=\"stroke:#000000; stroke-width:2; stroke-opacity:0.1; fill:none\" points=\"\n",
       "  2080.88,1486.45 2080.88,47.2441 \n",
       "  \"/>\n",
       "<polyline clip-path=\"url(#clip872)\" style=\"stroke:#000000; stroke-width:2; stroke-opacity:0.1; fill:none\" points=\"\n",
       "  135.95,1445.75 2352.76,1445.75 \n",
       "  \"/>\n",
       "<polyline clip-path=\"url(#clip872)\" style=\"stroke:#000000; stroke-width:2; stroke-opacity:0.1; fill:none\" points=\"\n",
       "  135.95,1174.19 2352.76,1174.19 \n",
       "  \"/>\n",
       "<polyline clip-path=\"url(#clip872)\" style=\"stroke:#000000; stroke-width:2; stroke-opacity:0.1; fill:none\" points=\"\n",
       "  135.95,902.64 2352.76,902.64 \n",
       "  \"/>\n",
       "<polyline clip-path=\"url(#clip872)\" style=\"stroke:#000000; stroke-width:2; stroke-opacity:0.1; fill:none\" points=\"\n",
       "  135.95,631.085 2352.76,631.085 \n",
       "  \"/>\n",
       "<polyline clip-path=\"url(#clip872)\" style=\"stroke:#000000; stroke-width:2; stroke-opacity:0.1; fill:none\" points=\"\n",
       "  135.95,359.531 2352.76,359.531 \n",
       "  \"/>\n",
       "<polyline clip-path=\"url(#clip872)\" style=\"stroke:#000000; stroke-width:2; stroke-opacity:0.1; fill:none\" points=\"\n",
       "  135.95,87.9763 2352.76,87.9763 \n",
       "  \"/>\n",
       "<polyline clip-path=\"url(#clip870)\" style=\"stroke:#000000; stroke-width:4; stroke-opacity:1; fill:none\" points=\"\n",
       "  135.95,1486.45 2352.76,1486.45 \n",
       "  \"/>\n",
       "<polyline clip-path=\"url(#clip870)\" style=\"stroke:#000000; stroke-width:4; stroke-opacity:1; fill:none\" points=\"\n",
       "  135.95,1486.45 135.95,47.2441 \n",
       "  \"/>\n",
       "<polyline clip-path=\"url(#clip870)\" style=\"stroke:#000000; stroke-width:4; stroke-opacity:1; fill:none\" points=\"\n",
       "  407.823,1486.45 407.823,1469.18 \n",
       "  \"/>\n",
       "<polyline clip-path=\"url(#clip870)\" style=\"stroke:#000000; stroke-width:4; stroke-opacity:1; fill:none\" points=\"\n",
       "  826.088,1486.45 826.088,1469.18 \n",
       "  \"/>\n",
       "<polyline clip-path=\"url(#clip870)\" style=\"stroke:#000000; stroke-width:4; stroke-opacity:1; fill:none\" points=\"\n",
       "  1244.35,1486.45 1244.35,1469.18 \n",
       "  \"/>\n",
       "<polyline clip-path=\"url(#clip870)\" style=\"stroke:#000000; stroke-width:4; stroke-opacity:1; fill:none\" points=\"\n",
       "  1662.62,1486.45 1662.62,1469.18 \n",
       "  \"/>\n",
       "<polyline clip-path=\"url(#clip870)\" style=\"stroke:#000000; stroke-width:4; stroke-opacity:1; fill:none\" points=\"\n",
       "  2080.88,1486.45 2080.88,1469.18 \n",
       "  \"/>\n",
       "<polyline clip-path=\"url(#clip870)\" style=\"stroke:#000000; stroke-width:4; stroke-opacity:1; fill:none\" points=\"\n",
       "  135.95,1445.75 162.552,1445.75 \n",
       "  \"/>\n",
       "<polyline clip-path=\"url(#clip870)\" style=\"stroke:#000000; stroke-width:4; stroke-opacity:1; fill:none\" points=\"\n",
       "  135.95,1174.19 162.552,1174.19 \n",
       "  \"/>\n",
       "<polyline clip-path=\"url(#clip870)\" style=\"stroke:#000000; stroke-width:4; stroke-opacity:1; fill:none\" points=\"\n",
       "  135.95,902.64 162.552,902.64 \n",
       "  \"/>\n",
       "<polyline clip-path=\"url(#clip870)\" style=\"stroke:#000000; stroke-width:4; stroke-opacity:1; fill:none\" points=\"\n",
       "  135.95,631.085 162.552,631.085 \n",
       "  \"/>\n",
       "<polyline clip-path=\"url(#clip870)\" style=\"stroke:#000000; stroke-width:4; stroke-opacity:1; fill:none\" points=\"\n",
       "  135.95,359.531 162.552,359.531 \n",
       "  \"/>\n",
       "<polyline clip-path=\"url(#clip870)\" style=\"stroke:#000000; stroke-width:4; stroke-opacity:1; fill:none\" points=\"\n",
       "  135.95,87.9763 162.552,87.9763 \n",
       "  \"/>\n",
       "<path clip-path=\"url(#clip870)\" d=\"M 0 0 M387.834 1525.04 L400.311 1525.04 L400.311 1528.83 L387.834 1528.83 L387.834 1525.04 Z\" fill=\"#000000\" fill-rule=\"evenodd\" fill-opacity=\"1\" /><path clip-path=\"url(#clip870)\" d=\"M 0 0 M418.228 1509.43 L406.422 1527.88 L418.228 1527.88 L418.228 1509.43 M417.001 1505.36 L422.88 1505.36 L422.88 1527.88 L427.811 1527.88 L427.811 1531.77 L422.88 1531.77 L422.88 1539.92 L418.228 1539.92 L418.228 1531.77 L402.626 1531.77 L402.626 1527.26 L417.001 1505.36 Z\" fill=\"#000000\" fill-rule=\"evenodd\" fill-opacity=\"1\" /><path clip-path=\"url(#clip870)\" d=\"M 0 0 M807.141 1525.04 L819.618 1525.04 L819.618 1528.83 L807.141 1528.83 L807.141 1525.04 Z\" fill=\"#000000\" fill-rule=\"evenodd\" fill-opacity=\"1\" /><path clip-path=\"url(#clip870)\" d=\"M 0 0 M828.715 1535.98 L845.034 1535.98 L845.034 1539.92 L823.09 1539.92 L823.09 1535.98 Q825.752 1533.23 830.335 1528.6 Q834.942 1523.95 836.122 1522.61 Q838.368 1520.08 839.247 1518.35 Q840.15 1516.59 840.15 1514.9 Q840.15 1512.14 838.206 1510.41 Q836.285 1508.67 833.183 1508.67 Q830.984 1508.67 828.53 1509.43 Q826.099 1510.2 823.322 1511.75 L823.322 1507.03 Q826.146 1505.89 828.599 1505.31 Q831.053 1504.73 833.09 1504.73 Q838.46 1504.73 841.655 1507.42 Q844.849 1510.11 844.849 1514.6 Q844.849 1516.73 844.039 1518.65 Q843.252 1520.54 841.146 1523.14 Q840.567 1523.81 837.465 1527.03 Q834.363 1530.22 828.715 1535.98 Z\" fill=\"#000000\" fill-rule=\"evenodd\" fill-opacity=\"1\" /><path clip-path=\"url(#clip870)\" d=\"M 0 0 M1244.35 1508.44 Q1240.74 1508.44 1238.91 1512 Q1237.11 1515.55 1237.11 1522.67 Q1237.11 1529.78 1238.91 1533.35 Q1240.74 1536.89 1244.35 1536.89 Q1247.99 1536.89 1249.79 1533.35 Q1251.62 1529.78 1251.62 1522.67 Q1251.62 1515.55 1249.79 1512 Q1247.99 1508.44 1244.35 1508.44 M1244.35 1504.73 Q1250.16 1504.73 1253.22 1509.34 Q1256.3 1513.92 1256.3 1522.67 Q1256.3 1531.4 1253.22 1536.01 Q1250.16 1540.59 1244.35 1540.59 Q1238.54 1540.59 1235.46 1536.01 Q1232.41 1531.4 1232.41 1522.67 Q1232.41 1513.92 1235.46 1509.34 Q1238.54 1504.73 1244.35 1504.73 Z\" fill=\"#000000\" fill-rule=\"evenodd\" fill-opacity=\"1\" /><path clip-path=\"url(#clip870)\" d=\"M 0 0 M1657.27 1535.98 L1673.59 1535.98 L1673.59 1539.92 L1651.65 1539.92 L1651.65 1535.98 Q1654.31 1533.23 1658.89 1528.6 Q1663.5 1523.95 1664.68 1522.61 Q1666.92 1520.08 1667.8 1518.35 Q1668.71 1516.59 1668.71 1514.9 Q1668.71 1512.14 1666.76 1510.41 Q1664.84 1508.67 1661.74 1508.67 Q1659.54 1508.67 1657.09 1509.43 Q1654.66 1510.2 1651.88 1511.75 L1651.88 1507.03 Q1654.7 1505.89 1657.16 1505.31 Q1659.61 1504.73 1661.65 1504.73 Q1667.02 1504.73 1670.21 1507.42 Q1673.41 1510.11 1673.41 1514.6 Q1673.41 1516.73 1672.6 1518.65 Q1671.81 1520.54 1669.7 1523.14 Q1669.12 1523.81 1666.02 1527.03 Q1662.92 1530.22 1657.27 1535.98 Z\" fill=\"#000000\" fill-rule=\"evenodd\" fill-opacity=\"1\" /><path clip-path=\"url(#clip870)\" d=\"M 0 0 M2083.89 1509.43 L2072.09 1527.88 L2083.89 1527.88 L2083.89 1509.43 M2082.67 1505.36 L2088.55 1505.36 L2088.55 1527.88 L2093.48 1527.88 L2093.48 1531.77 L2088.55 1531.77 L2088.55 1539.92 L2083.89 1539.92 L2083.89 1531.77 L2068.29 1531.77 L2068.29 1527.26 L2082.67 1505.36 Z\" fill=\"#000000\" fill-rule=\"evenodd\" fill-opacity=\"1\" /><path clip-path=\"url(#clip870)\" d=\"M 0 0 M100.006 1431.55 Q96.3947 1431.55 94.566 1435.11 Q92.7605 1438.65 92.7605 1445.78 Q92.7605 1452.89 94.566 1456.45 Q96.3947 1460 100.006 1460 Q103.64 1460 105.446 1456.45 Q107.274 1452.89 107.274 1445.78 Q107.274 1438.65 105.446 1435.11 Q103.64 1431.55 100.006 1431.55 M100.006 1427.84 Q105.816 1427.84 108.872 1432.45 Q111.95 1437.03 111.95 1445.78 Q111.95 1454.51 108.872 1459.12 Q105.816 1463.7 100.006 1463.7 Q94.1957 1463.7 91.117 1459.12 Q88.0614 1454.51 88.0614 1445.78 Q88.0614 1437.03 91.117 1432.45 Q94.1957 1427.84 100.006 1427.84 Z\" fill=\"#000000\" fill-rule=\"evenodd\" fill-opacity=\"1\" /><path clip-path=\"url(#clip870)\" d=\"M 0 0 M91.0475 1156.91 L109.404 1156.91 L109.404 1160.85 L95.3299 1160.85 L95.3299 1169.32 Q96.3484 1168.97 97.3669 1168.81 Q98.3855 1168.63 99.404 1168.63 Q105.191 1168.63 108.571 1171.8 Q111.95 1174.97 111.95 1180.39 Q111.95 1185.97 108.478 1189.07 Q105.006 1192.15 98.6864 1192.15 Q96.5105 1192.15 94.242 1191.78 Q91.9966 1191.4 89.5892 1190.66 L89.5892 1185.97 Q91.6725 1187.1 93.8947 1187.65 Q96.1169 1188.21 98.5938 1188.21 Q102.598 1188.21 104.936 1186.1 Q107.274 1184 107.274 1180.39 Q107.274 1176.78 104.936 1174.67 Q102.598 1172.56 98.5938 1172.56 Q96.7188 1172.56 94.8438 1172.98 Q92.992 1173.4 91.0475 1174.28 L91.0475 1156.91 Z\" fill=\"#000000\" fill-rule=\"evenodd\" fill-opacity=\"1\" /><path clip-path=\"url(#clip870)\" d=\"M 0 0 M65.0292 915.985 L72.668 915.985 L72.668 889.619 L64.3579 891.286 L64.3579 887.026 L72.6217 885.36 L77.2976 885.36 L77.2976 915.985 L84.9365 915.985 L84.9365 919.92 L65.0292 919.92 L65.0292 915.985 Z\" fill=\"#000000\" fill-rule=\"evenodd\" fill-opacity=\"1\" /><path clip-path=\"url(#clip870)\" d=\"M 0 0 M100.006 888.438 Q96.3947 888.438 94.566 892.003 Q92.7605 895.545 92.7605 902.674 Q92.7605 909.781 94.566 913.346 Q96.3947 916.887 100.006 916.887 Q103.64 916.887 105.446 913.346 Q107.274 909.781 107.274 902.674 Q107.274 895.545 105.446 892.003 Q103.64 888.438 100.006 888.438 M100.006 884.735 Q105.816 884.735 108.872 889.341 Q111.95 893.925 111.95 902.674 Q111.95 911.401 108.872 916.008 Q105.816 920.591 100.006 920.591 Q94.1957 920.591 91.117 916.008 Q88.0614 911.401 88.0614 902.674 Q88.0614 893.925 91.117 889.341 Q94.1957 884.735 100.006 884.735 Z\" fill=\"#000000\" fill-rule=\"evenodd\" fill-opacity=\"1\" /><path clip-path=\"url(#clip870)\" d=\"M 0 0 M66.0245 644.43 L73.6634 644.43 L73.6634 618.065 L65.3532 619.731 L65.3532 615.472 L73.6171 613.805 L78.293 613.805 L78.293 644.43 L85.9318 644.43 L85.9318 648.365 L66.0245 648.365 L66.0245 644.43 Z\" fill=\"#000000\" fill-rule=\"evenodd\" fill-opacity=\"1\" /><path clip-path=\"url(#clip870)\" d=\"M 0 0 M91.0475 613.805 L109.404 613.805 L109.404 617.74 L95.3299 617.74 L95.3299 626.213 Q96.3484 625.865 97.3669 625.703 Q98.3855 625.518 99.404 625.518 Q105.191 625.518 108.571 628.689 Q111.95 631.861 111.95 637.277 Q111.95 642.856 108.478 645.958 Q105.006 649.037 98.6864 649.037 Q96.5105 649.037 94.242 648.666 Q91.9966 648.296 89.5892 647.555 L89.5892 642.856 Q91.6725 643.99 93.8947 644.546 Q96.1169 645.101 98.5938 645.101 Q102.598 645.101 104.936 642.995 Q107.274 640.888 107.274 637.277 Q107.274 633.666 104.936 631.56 Q102.598 629.453 98.5938 629.453 Q96.7188 629.453 94.8438 629.87 Q92.992 630.287 91.0475 631.166 L91.0475 613.805 Z\" fill=\"#000000\" fill-rule=\"evenodd\" fill-opacity=\"1\" /><path clip-path=\"url(#clip870)\" d=\"M 0 0 M68.6171 372.876 L84.9365 372.876 L84.9365 376.811 L62.9921 376.811 L62.9921 372.876 Q65.6541 370.121 70.2375 365.491 Q74.8439 360.839 76.0245 359.496 Q78.2698 356.973 79.1494 355.237 Q80.0522 353.478 80.0522 351.788 Q80.0522 349.033 78.1078 347.297 Q76.1865 345.561 73.0847 345.561 Q70.8856 345.561 68.4319 346.325 Q66.0014 347.089 63.2236 348.64 L63.2236 343.917 Q66.0477 342.783 68.5014 342.204 Q70.955 341.626 72.9921 341.626 Q78.3624 341.626 81.5568 344.311 Q84.7513 346.996 84.7513 351.487 Q84.7513 353.616 83.9411 355.538 Q83.1541 357.436 81.0476 360.028 Q80.4689 360.7 77.367 363.917 Q74.2652 367.112 68.6171 372.876 Z\" fill=\"#000000\" fill-rule=\"evenodd\" fill-opacity=\"1\" /><path clip-path=\"url(#clip870)\" d=\"M 0 0 M100.006 345.329 Q96.3947 345.329 94.566 348.894 Q92.7605 352.436 92.7605 359.565 Q92.7605 366.672 94.566 370.237 Q96.3947 373.778 100.006 373.778 Q103.64 373.778 105.446 370.237 Q107.274 366.672 107.274 359.565 Q107.274 352.436 105.446 348.894 Q103.64 345.329 100.006 345.329 M100.006 341.626 Q105.816 341.626 108.872 346.232 Q111.95 350.816 111.95 359.565 Q111.95 368.292 108.872 372.899 Q105.816 377.482 100.006 377.482 Q94.1957 377.482 91.117 372.899 Q88.0614 368.292 88.0614 359.565 Q88.0614 350.816 91.117 346.232 Q94.1957 341.626 100.006 341.626 Z\" fill=\"#000000\" fill-rule=\"evenodd\" fill-opacity=\"1\" /><path clip-path=\"url(#clip870)\" d=\"M 0 0 M69.6125 101.321 L85.9318 101.321 L85.9318 105.256 L63.9875 105.256 L63.9875 101.321 Q66.6495 98.5665 71.2328 93.9369 Q75.8393 89.2841 77.0198 87.9416 Q79.2652 85.4184 80.1448 83.6823 Q81.0476 81.9231 81.0476 80.2333 Q81.0476 77.4786 79.1032 75.7425 Q77.1819 74.0064 74.08 74.0064 Q71.881 74.0064 69.4273 74.7703 Q66.9967 75.5342 64.219 77.0851 L64.219 72.3629 Q67.043 71.2287 69.4967 70.65 Q71.9504 70.0713 73.9874 70.0713 Q79.3578 70.0713 82.5522 72.7565 Q85.7466 75.4416 85.7466 79.9323 Q85.7466 82.062 84.9365 83.9832 Q84.1494 85.8814 82.0429 88.474 Q81.4642 89.1453 78.3624 92.3628 Q75.2606 95.5573 69.6125 101.321 Z\" fill=\"#000000\" fill-rule=\"evenodd\" fill-opacity=\"1\" /><path clip-path=\"url(#clip870)\" d=\"M 0 0 M91.0475 70.6963 L109.404 70.6963 L109.404 74.6314 L95.3299 74.6314 L95.3299 83.1036 Q96.3484 82.7564 97.3669 82.5944 Q98.3855 82.4092 99.404 82.4092 Q105.191 82.4092 108.571 85.5805 Q111.95 88.7517 111.95 94.1684 Q111.95 99.747 108.478 102.849 Q105.006 105.928 98.6864 105.928 Q96.5105 105.928 94.242 105.557 Q91.9966 105.187 89.5892 104.446 L89.5892 99.747 Q91.6725 100.881 93.8947 101.437 Q96.1169 101.992 98.5938 101.992 Q102.598 101.992 104.936 99.8859 Q107.274 97.7795 107.274 94.1684 Q107.274 90.5573 104.936 88.4508 Q102.598 86.3443 98.5938 86.3443 Q96.7188 86.3443 94.8438 86.761 Q92.992 87.1777 91.0475 88.0573 L91.0475 70.6963 Z\" fill=\"#000000\" fill-rule=\"evenodd\" fill-opacity=\"1\" /><polyline clip-path=\"url(#clip872)\" style=\"stroke:#009af9; stroke-width:4; stroke-opacity:1; fill:none\" points=\"\n",
       "  198.69,87.9763 208.902,114.366 219.113,140.497 313.536,369.848 407.958,577.056 464.702,690.928 521.446,796.803 569.423,880.081 617.399,957.642 669.515,1035.42 \n",
       "  721.63,1106.45 769.676,1165.95 817.722,1219.73 869.233,1271.01 920.743,1315.71 980.423,1359.25 1040.1,1393.94 1093.14,1417.35 1146.18,1433.78 1192.68,1442.43 \n",
       "  1239.19,1445.72 1289.9,1443.17 1340.61,1434.24 1391.61,1418.82 1442.62,1396.93 1499.02,1365.22 1555.41,1325.6 1609.07,1280.57 1662.73,1228.39 1718.52,1166.55 \n",
       "  1774.32,1096.98 1821.28,1032.43 1868.25,962.394 1925.59,869.465 1982.93,768.37 2036.83,665.892 2090.73,556.198 2177.08,365.421 2263.44,156.123 2276.73,122.269 \n",
       "  2290.02,87.9763 \n",
       "  \"/>\n",
       "<path clip-path=\"url(#clip870)\" d=\"\n",
       "M1989.74 251.724 L2280.76 251.724 L2280.76 130.764 L1989.74 130.764  Z\n",
       "  \" fill=\"#ffffff\" fill-rule=\"evenodd\" fill-opacity=\"1\"/>\n",
       "<polyline clip-path=\"url(#clip870)\" style=\"stroke:#000000; stroke-width:4; stroke-opacity:1; fill:none\" points=\"\n",
       "  1989.74,251.724 2280.76,251.724 2280.76,130.764 1989.74,130.764 1989.74,251.724 \n",
       "  \"/>\n",
       "<polyline clip-path=\"url(#clip870)\" style=\"stroke:#009af9; stroke-width:4; stroke-opacity:1; fill:none\" points=\"\n",
       "  2013.74,191.244 2157.74,191.244 \n",
       "  \"/>\n",
       "<path clip-path=\"url(#clip870)\" d=\"M 0 0 M2195.58 210.931 Q2193.77 215.561 2192.06 216.973 Q2190.35 218.385 2187.48 218.385 L2184.08 218.385 L2184.08 214.82 L2186.58 214.82 Q2188.33 214.82 2189.31 213.987 Q2190.28 213.154 2191.46 210.052 L2192.22 208.107 L2181.74 182.598 L2186.25 182.598 L2194.35 202.876 L2202.46 182.598 L2206.97 182.598 L2195.58 210.931 Z\" fill=\"#000000\" fill-rule=\"evenodd\" fill-opacity=\"1\" /><path clip-path=\"url(#clip870)\" d=\"M 0 0 M2212.85 204.589 L2220.49 204.589 L2220.49 178.223 L2212.18 179.89 L2212.18 175.631 L2220.44 173.964 L2225.12 173.964 L2225.12 204.589 L2232.76 204.589 L2232.76 208.524 L2212.85 208.524 L2212.85 204.589 Z\" fill=\"#000000\" fill-rule=\"evenodd\" fill-opacity=\"1\" /></svg>\n"
      ]
     },
     "execution_count": 5,
     "metadata": {},
     "output_type": "execute_result"
    }
   ],
   "source": [
    "f(x)=x^2\n",
    "plot(f)"
   ]
  },
  {
   "cell_type": "code",
   "execution_count": 10,
   "metadata": {},
   "outputs": [
    {
     "data": {
      "text/plain": [
       "#7 (generic function with 1 method)"
      ]
     },
     "execution_count": 10,
     "metadata": {},
     "output_type": "execute_result"
    }
   ],
   "source": [
    "(x,x_, )-> x^2 + x_^2"
   ]
  },
  {
   "cell_type": "code",
   "execution_count": 11,
   "metadata": {},
   "outputs": [
    {
     "data": {
      "text/plain": [
       "#9 (generic function with 1 method)"
      ]
     },
     "execution_count": 11,
     "metadata": {},
     "output_type": "execute_result"
    }
   ],
   "source": [
    "x->8"
   ]
  },
  {
   "cell_type": "code",
   "execution_count": null,
   "metadata": {},
   "outputs": [],
   "source": [
    "function debugKernelMatrix(X,k;observationn_noise=0)\n",
    "\tK=zeros(size(X,1),size(X,1))\n",
    "\tfor i in 1:size(X,1)\n",
    "# \t\tfor j in 1:i\n",
    "# \t\t\tK[i,j]=K[j,i]\n",
    "# \t\tend\n",
    "\t\tfor j in i:size(X,1)\n",
    "\t\t\tif i==j\n",
    "\t\t\t\tN=observationn_noise\n",
    "\t\t\telse\n",
    "\t\t\t\tN=0\n",
    "\t\t\tend\n",
    "\t\t\tK[i,j]=k(X[i],X[j])+N\n",
    "\t\tend\n",
    "\tend\n",
    "\treturn(K)\n",
    "end"
   ]
  }
 ],
 "metadata": {
  "kernelspec": {
   "display_name": "Julia 1.4.1",
   "language": "julia",
   "name": "julia-1.4"
  },
  "language_info": {
   "file_extension": ".jl",
   "mimetype": "application/julia",
   "name": "julia",
   "version": "1.4.1"
  }
 },
 "nbformat": 4,
 "nbformat_minor": 4
}
